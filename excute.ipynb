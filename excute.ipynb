{
 "cells": [
  {
   "cell_type": "code",
   "execution_count": 19,
   "metadata": {},
   "outputs": [],
   "source": [
    "from bs4 import BeautifulSoup as bs\n",
    "import requests\n",
    "from collections import namedtuple"
   ]
  },
  {
   "cell_type": "code",
   "execution_count": 6,
   "metadata": {},
   "outputs": [],
   "source": [
    "num = 2178\n",
    "path = \"./solving/\"\n",
    "url = \"https://www.acmicpc.net/problem/{}\".format(num)"
   ]
  },
  {
   "cell_type": "code",
   "execution_count": 56,
   "metadata": {},
   "outputs": [],
   "source": [
    "headers: dict[str, str] = {\n",
    "\"Host\": \"www.acmicpc.net\",\n",
    "\"User-Agent\": \"Mozilla/5.0 (Windows NT 10.0; Win64; x64; rv:99.0) Gecko/20100101 Firefox/99.0\",\n",
    "\"Accept\": \"text/html,application/xhtml+xml,application/xml;q=0.9,image/avif,image/webp,*/*;q=0.8\",\n",
    "\"Accept-Language\": \"ko-KR,ko;q=0.8,en-US;q=0.5,en;q=0.3\",\n",
    "\"Accept-Encoding\": \"gzip, deflate, br\",\n",
    "}"
   ]
  },
  {
   "cell_type": "code",
   "execution_count": null,
   "metadata": {},
   "outputs": [],
   "source": [
    "response = requests.get(url, headers=headers)\n",
    "# response.text"
   ]
  },
  {
   "cell_type": "code",
   "execution_count": 9,
   "metadata": {},
   "outputs": [],
   "source": [
    "soup = bs(response.text, \"html.parser\")"
   ]
  },
  {
   "cell_type": "code",
   "execution_count": 10,
   "metadata": {},
   "outputs": [
    {
     "name": "stdout",
     "output_type": "stream",
     "text": [
      "미로 탐색\n"
     ]
    }
   ],
   "source": [
    "title = soup.select_one(\"#problem_title\").text\n",
    "print(title)"
   ]
  },
  {
   "cell_type": "code",
   "execution_count": 11,
   "metadata": {},
   "outputs": [],
   "source": [
    "contents = soup.select(\"#problem-body > div.col-md-12\")"
   ]
  },
  {
   "cell_type": "code",
   "execution_count": 16,
   "metadata": {},
   "outputs": [
    {
     "data": {
      "text/plain": [
       "4"
      ]
     },
     "execution_count": 16,
     "metadata": {},
     "output_type": "execute_result"
    }
   ],
   "source": [
    "examples_elems = [content for content in contents if content.select(\"button.copy-button\")]\n",
    "len(examples_elems)"
   ]
  },
  {
   "cell_type": "code",
   "execution_count": 51,
   "metadata": {},
   "outputs": [],
   "source": [
    "class Example:\n",
    "    def __init__(self, elem: bs):\n",
    "        self.elem = elem\n",
    "        self.input, self.output = map(Example.text_extracrt, elem.select(\"pre\"))\n",
    "    \n",
    "    @staticmethod\n",
    "    def text_extracrt(io_elem: bs) -> str:\n",
    "        io_text = io_elem.text\n",
    "        io_text = io_text.replace(\"\\r\\n\", \"\\n\")\n",
    "        if io_text.endswith(\"\\n\"):\n",
    "            io_text = io_text[:-1]\n",
    "        return io_text\n",
    "    \n",
    "    def __str__(self):\n",
    "        return f\"{self.input} # {self.output}\"\n",
    "\n"
   ]
  },
  {
   "cell_type": "code",
   "execution_count": 52,
   "metadata": {},
   "outputs": [
    {
     "data": {
      "text/plain": [
       "[<__main__.Example at 0x27645041540>,\n",
       " <__main__.Example at 0x27645041d20>,\n",
       " <__main__.Example at 0x27645041e40>,\n",
       " <__main__.Example at 0x27645040af0>]"
      ]
     },
     "execution_count": 52,
     "metadata": {},
     "output_type": "execute_result"
    }
   ],
   "source": [
    "examples = [Example(elem) for elem in examples_elems]\n",
    "examples"
   ]
  },
  {
   "cell_type": "code",
   "execution_count": 53,
   "metadata": {},
   "outputs": [
    {
     "name": "stdout",
     "output_type": "stream",
     "text": [
      "4 6\n",
      "101111\n",
      "101010\n",
      "101011\n",
      "111011 # 15\n"
     ]
    }
   ],
   "source": [
    "print(examples[0])"
   ]
  },
  {
   "cell_type": "code",
   "execution_count": 133,
   "metadata": {},
   "outputs": [],
   "source": [
    "%load_ext blackcellmagic"
   ]
  },
  {
   "cell_type": "code",
   "execution_count": 152,
   "metadata": {},
   "outputs": [],
   "source": [
    "class Problem:\n",
    "    def __init__(self, num: int):\n",
    "        self.num: int = num\n",
    "        self.url: str = f\"https://www.acmicpc.net/problem/{num}\"\n",
    "\n",
    "        match self.__get_response().status_code:\n",
    "            case 200:\n",
    "                self.set_soup()\n",
    "                self.set_title()\n",
    "                self.set_examples()\n",
    "            case 404:\n",
    "                raise ValueError(f\"{num}번 문제는 존재하지 않습니다.\")\n",
    "            case 403:\n",
    "                raise PermissionError(f\"잘못된 접근입니다. 헤더를 수정해주세요.\")\n",
    "            case status_code:\n",
    "                raise ConnectionError(f\"연결에 문제가 있습니다. 상태코드: {status_code}\")\n",
    "\n",
    "    def __get_response(self) -> requests.Response:\n",
    "        __response = requests.get(self.url, headers={\n",
    "            \"Host\": \"www.acmicpc.net\",\n",
    "            \"User-Agent\": \"Mozilla/5.0 (Windows NT 10.0; Win64; x64; rv:99.0) Gecko/20100101 Firefox/99.0\",\n",
    "            \"Accept\": \"text/html,application/xhtml+xml,application/xml;q=0.9,image/avif,image/webp,*/*;q=0.8\",\n",
    "            \"Accept-Language\": \"ko-KR,ko;q=0.8,en-US;q=0.5,en;q=0.3\",\n",
    "            \"Accept-Encoding\": \"gzip, deflate, br\",\n",
    "        })\n",
    "        return __response\n",
    "\n",
    "    def set_soup(self):\n",
    "        self.soup = bs(self.__get_response().text, \"html.parser\")\n",
    "    \n",
    "    def set_title(self):\n",
    "        self.title = soup.select_one(\"#problem_title\").text\n",
    "\n",
    "    class Example:\n",
    "        counter = 0\n",
    "        \n",
    "        @classmethod\n",
    "        def count(cls) -> None:\n",
    "            cls.counter += 1\n",
    "\n",
    "        def __init__(self, problem: \"Problem\", elem: bs):\n",
    "            self.elem = elem\n",
    "            self.input, self.output = map(Example.text_extracrt, elem.select(\"pre\"))\n",
    "            problem.Example.count()\n",
    "            self.num = problem.Example.counter\n",
    "            self.problem = problem\n",
    "        \n",
    "        @staticmethod\n",
    "        def text_extracrt(io_elem: bs) -> str:\n",
    "            io_text = io_elem.text\n",
    "            io_text = io_text.replace(\"\\r\\n\", \"\\n\")\n",
    "            if io_text.endswith(\"\\n\"):\n",
    "                io_text = io_text[:-1]\n",
    "            return io_text\n",
    "\n",
    "        def __str__(self):\n",
    "            return f\"{self.input} # {self.output}\"\n",
    "        \n",
    "        def __repr__(self):\n",
    "            return f\"< [{self.problem.num}번 {self.problem.title}]({self.problem.url}) {self.num} 번 예제 at {hex(id(self))}>\"\n",
    "        \n",
    "    def set_examples(self):\n",
    "        content_selector = \"#problem-body > div.col-md-12\"\n",
    "        contents = self.soup.select(content_selector)\n",
    "        copy_button_selector = \"button.copy-button\"\n",
    "        self.examples = [Problem.Example(self, elem) for elem in contents if elem.select(copy_button_selector)]\n",
    "\n",
    "    def example(self, num):\n",
    "        if num < len(self.examples):\n",
    "            return str(self.examples[num])\n",
    "        else:\n",
    "            return None\n",
    "\n",
    "    def h1(self):\n",
    "        return f\"# [백준/{self.title}]({self.url})\"\n",
    "\n",
    "    def __str__(self):\n",
    "        return f\"{self.num}번 {self.title}\"\n",
    "    \n",
    "    def __repr__(self):\n",
    "        return f\"< [{self.num}번 {self.title}]({self.url}) at {hex(id(self))}>\""
   ]
  },
  {
   "cell_type": "code",
   "execution_count": 153,
   "metadata": {},
   "outputs": [],
   "source": [
    "prob2178 = Problem(2178)"
   ]
  },
  {
   "cell_type": "code",
   "execution_count": 154,
   "metadata": {},
   "outputs": [
    {
     "name": "stdout",
     "output_type": "stream",
     "text": [
      "4 6\n",
      "101111\n",
      "101010\n",
      "101011\n",
      "111011 # 15\n"
     ]
    }
   ],
   "source": [
    "print(prob2178.example(0))"
   ]
  },
  {
   "cell_type": "code",
   "execution_count": 155,
   "metadata": {},
   "outputs": [
    {
     "name": "stdout",
     "output_type": "stream",
     "text": [
      "2178번 미로 탐색\n"
     ]
    }
   ],
   "source": [
    "print(prob2178)"
   ]
  },
  {
   "cell_type": "code",
   "execution_count": 156,
   "metadata": {},
   "outputs": [],
   "source": [
    "import json"
   ]
  },
  {
   "cell_type": "code",
   "execution_count": 157,
   "metadata": {},
   "outputs": [],
   "source": [
    "with open(\"template.ipynb\", encoding=\"utf-8\") as f:\n",
    "    template = json.load(f)"
   ]
  },
  {
   "cell_type": "code",
   "execution_count": 158,
   "metadata": {},
   "outputs": [
    {
     "data": {
      "text/plain": [
       "{'cells': [{'cell_type': 'markdown',\n",
       "   'metadata': {},\n",
       "   'source': ['# [사이트/문제_제목](링크)']},\n",
       "  {'cell_type': 'markdown', 'metadata': {}, 'source': ['## 풀이과정']},\n",
       "  {'cell_type': 'markdown', 'metadata': {}, 'source': ['### 첫번째 시도']},\n",
       "  {'cell_type': 'markdown', 'metadata': {}, 'source': ['풀이과정']},\n",
       "  {'cell_type': 'code',\n",
       "   'execution_count': None,\n",
       "   'metadata': {},\n",
       "   'outputs': [],\n",
       "   'source': ['# 풀이 코드']},\n",
       "  {'cell_type': 'markdown', 'metadata': {}, 'source': ['## 해답']},\n",
       "  {'cell_type': 'code',\n",
       "   'execution_count': None,\n",
       "   'metadata': {},\n",
       "   'outputs': [],\n",
       "   'source': ['# 해답\\n',\n",
       "    '# import sys;input = lambda: sys.stdin.readline().rstrip();print = lambda x: sys.stdout.write(str(x)+\"\\\\n\")\\n',\n",
       "    '# def solution(input):\\n',\n",
       "    '#     map(int,input().split())\\n',\n",
       "    '# def solution(open):\\n',\n",
       "    '#     [*open(0)]']},\n",
       "  {'cell_type': 'markdown', 'metadata': {}, 'source': ['## 테스트 결과']},\n",
       "  {'cell_type': 'markdown',\n",
       "   'metadata': {},\n",
       "   'source': ['|테스트|결과|\\n', '|---:|:---|']},\n",
       "  {'cell_type': 'markdown', 'metadata': {}, 'source': ['## 예제']},\n",
       "  {'cell_type': 'code',\n",
       "   'execution_count': None,\n",
       "   'metadata': {},\n",
       "   'outputs': [],\n",
       "   'source': ['%load_ext blackcellmagic\\n', '# %%black']},\n",
       "  {'cell_type': 'code',\n",
       "   'execution_count': None,\n",
       "   'metadata': {},\n",
       "   'outputs': [],\n",
       "   'source': ['# 백준 문제 풀이용 예제 실행 코드\\n',\n",
       "    'from bwj import test\\n',\n",
       "    'test_solution = test(solution)\\n',\n",
       "    '\\n',\n",
       "    '# test_solution(\"\"\"\"\"\")\\n',\n",
       "    '# test_solution(read(\"fn\").read())']},\n",
       "  {'cell_type': 'code',\n",
       "   'execution_count': None,\n",
       "   'metadata': {},\n",
       "   'outputs': [],\n",
       "   'source': ['# 예제 코드']}],\n",
       " 'metadata': {'interpreter': {'hash': '73891b0dc2e53390f36276e59930dd4ecab91b05b5c90320c2d5b1c443f87069'},\n",
       "  'kernelspec': {'display_name': \"Python 3.10.1 ('venv': venv)\",\n",
       "   'language': 'python',\n",
       "   'name': 'python3'},\n",
       "  'language_info': {'codemirror_mode': {'name': 'ipython', 'version': 3},\n",
       "   'file_extension': '.py',\n",
       "   'mimetype': 'text/x-python',\n",
       "   'name': 'python',\n",
       "   'nbconvert_exporter': 'python',\n",
       "   'pygments_lexer': 'ipython3',\n",
       "   'version': '3.10.1'},\n",
       "  'orig_nbformat': 4},\n",
       " 'nbformat': 4,\n",
       " 'nbformat_minor': 2}"
      ]
     },
     "execution_count": 158,
     "metadata": {},
     "output_type": "execute_result"
    }
   ],
   "source": [
    "template"
   ]
  },
  {
   "cell_type": "code",
   "execution_count": 159,
   "metadata": {},
   "outputs": [],
   "source": [
    "template[\"cells\"][0][\"source\"][0] = prob2178.h1()"
   ]
  },
  {
   "cell_type": "code",
   "execution_count": 160,
   "metadata": {},
   "outputs": [],
   "source": [
    "for example in prob2178.examples:\n",
    "    input_line = f'test_solution(\"\"\"{example.input}\"\"\")'\n",
    "    if example.output.find(\"\\n\") == -1:\n",
    "        output_line = f' # {example.output}'\n",
    "        source = [input_line + output_line]\n",
    "    else:\n",
    "        output_line = f'\"\"\"{example.output}\"\"\"'\n",
    "        source = [input_line, output_line]\n",
    "    template[\"cells\"].append({\"cell_type\": 'code',\n",
    "        'execution_count': None,\n",
    "        'metadata': {},\n",
    "        'outputs': [],\n",
    "        \"source\": source\n",
    "    })"
   ]
  },
  {
   "cell_type": "code",
   "execution_count": 161,
   "metadata": {},
   "outputs": [],
   "source": [
    "with open(\"2178.ipynb\", \"w\", encoding=\"utf-8\") as f:\n",
    "    json.dump(template, f, indent=4)"
   ]
  }
 ],
 "metadata": {
  "interpreter": {
   "hash": "085635c7bab703e7bb5a41fe64c7278518d529ae783e191374674f75ba478b45"
  },
  "kernelspec": {
   "display_name": "Python 3.10.2 64-bit",
   "language": "python",
   "name": "python3"
  },
  "language_info": {
   "codemirror_mode": {
    "name": "ipython",
    "version": 3
   },
   "file_extension": ".py",
   "mimetype": "text/x-python",
   "name": "python",
   "nbconvert_exporter": "python",
   "pygments_lexer": "ipython3",
   "version": "3.10.2"
  },
  "orig_nbformat": 4
 },
 "nbformat": 4,
 "nbformat_minor": 2
}
